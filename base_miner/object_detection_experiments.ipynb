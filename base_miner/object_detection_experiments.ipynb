{
 "cells": [
  {
   "cell_type": "code",
   "execution_count": null,
   "id": "b4a27681-e31f-4d17-829b-dcc5c23301d7",
   "metadata": {},
   "outputs": [],
   "source": [
    "import ultralytics\n",
    "ultralytics.checks()\n",
    "from ultralytics import YOLO\n",
    "import numpy as np\n",
    "import matplotlib.pyplot as plt\n",
    "import matplotlib.patches as patches\n",
    "from PIL import Image\n",
    "import urllib.request\n",
    "import numpy as np\n",
    "import time"
   ]
  },
  {
   "cell_type": "code",
   "execution_count": null,
   "id": "ccfbe5e8-c05b-401e-8956-ae396e1444f1",
   "metadata": {},
   "outputs": [],
   "source": [
    "image_classifier = YOLO(\"yolov8x-cls.pt\")"
   ]
  },
  {
   "cell_type": "code",
   "execution_count": null,
   "id": "31f25a47-5a76-4ce1-81f7-5ee2788469d4",
   "metadata": {},
   "outputs": [],
   "source": [
    "#url = \"/content/tom fake 3.jpg\"\n",
    "url = \"https://ultralytics.com/images/bus.jpg\"\n",
    "results = image_classifier(url)\n",
    "#print(results)\n",
    "names_dict = results[0].names\n",
    "probs = results[0].probs.data.tolist()\n",
    "#print(names_dict)\n",
    "#print(probs)\n",
    "\n",
    "print(names_dict[np.argmax(probs)])"
   ]
  },
  {
   "cell_type": "code",
   "execution_count": null,
   "id": "e1474b36-264d-4c44-a3b8-567deb84c25d",
   "metadata": {},
   "outputs": [],
   "source": [
    "print(\"Classes with a probability above 0.5:\")\n",
    "for i, prob in enumerate(probs):\n",
    "    if prob > 0.1:\n",
    "        print(f\"{names_dict[i]}: {prob:.2f}\")"
   ]
  },
  {
   "cell_type": "code",
   "execution_count": null,
   "id": "86e17514-d198-483c-a271-0ae38058dd3f",
   "metadata": {},
   "outputs": [],
   "source": [
    "# Load the YOLO object detection model\n",
    "start = time.time()\n",
    "object_detector = YOLO(\"yolov8x.pt\")  # Make sure to use the correct model weights file\n",
    "loading_time = time.time()-start\n",
    "print(f\"Loading time: {loading_time}\")"
   ]
  },
  {
   "cell_type": "code",
   "execution_count": null,
   "id": "36605b41-f36f-44bc-835b-ad928d1f701e",
   "metadata": {},
   "outputs": [],
   "source": [
    "# Perform object detection on an image (the image can be a local path or a URL)\n",
    "image_path = \"dog park.jpg\"\n",
    "\n",
    "# Check if the path is a URL or a local file and load the image accordingly\n",
    "if image_path.startswith('http'):\n",
    "    with urllib.request.urlopen(image_path) as url:\n",
    "        image = Image.open(url)\n",
    "else:\n",
    "    image = Image.open(image_path)  # Open local image directly\n",
    "\n",
    "image_np = np.array(image)  # Convert PIL Image to numpy array for matplotlib"
   ]
  },
  {
   "cell_type": "code",
   "execution_count": null,
   "id": "123af839-edeb-4d96-8115-4c38891ae18f",
   "metadata": {},
   "outputs": [],
   "source": [
    "start = time.time()\n",
    "results = object_detector(image)\n",
    "detection_time = time.time()-start\n",
    "print(f\"Detection time: {detection_time}\")"
   ]
  },
  {
   "cell_type": "code",
   "execution_count": null,
   "id": "90bbf778-f9d9-4fd2-87f0-252681292cdb",
   "metadata": {},
   "outputs": [],
   "source": [
    "# Set up the plot\n",
    "fig, ax = plt.subplots(1, figsize=(12, 9))\n",
    "ax.imshow(image_np)  # Display the image\n",
    "\n",
    "# Iterate over the results\n",
    "for result in results:\n",
    "    # Access the correct attributes for class id, box coordinates, and confidence\n",
    "    for i, box in enumerate(result.boxes):\n",
    "        x1, y1, x2, y2 = box.xyxy[0].cpu().numpy()  # Unpack bounding box coordinates\n",
    "        conf = box.conf.item()  # Confidence score\n",
    "        class_id = box.cls.item()  # Class ID\n",
    "        if conf > 0.5:  # Only display boxes with confidence greater than 50%\n",
    "            class_name = result.names[int(class_id)]  # Get class name using class ID\n",
    "            rect = patches.Rectangle((x1, y1), x2 - x1, y2 - y1, linewidth=2, edgecolor='r', facecolor='none')\n",
    "            ax.add_patch(rect)\n",
    "            plt.text(x1, y1, f\"{class_name}: {conf:.2f}\", color='white', fontsize=12,\n",
    "                     bbox=dict(facecolor='red', alpha=0.5))\n",
    "\n",
    "# Show the image with bounding boxes\n",
    "plt.axis('off')  # Turn off axis\n",
    "plt.savefig('dog park bb.png')\n",
    "plt.show()"
   ]
  },
  {
   "cell_type": "code",
   "execution_count": null,
   "id": "4c8df693-8073-4349-80b7-f8d220c5ccbc",
   "metadata": {},
   "outputs": [],
   "source": [
    "plt.savefig('dog park bb.png')"
   ]
  },
  {
   "cell_type": "code",
   "execution_count": null,
   "id": "d004f93b-bb99-43e4-b4d4-03aab671a00a",
   "metadata": {},
   "outputs": [],
   "source": []
  }
 ],
 "metadata": {
  "kernelspec": {
   "display_name": "Python 3 (ipykernel)",
   "language": "python",
   "name": "python3"
  },
  "language_info": {
   "codemirror_mode": {
    "name": "ipython",
    "version": 3
   },
   "file_extension": ".py",
   "mimetype": "text/x-python",
   "name": "python",
   "nbconvert_exporter": "python",
   "pygments_lexer": "ipython3",
   "version": "3.10.14"
  }
 },
 "nbformat": 4,
 "nbformat_minor": 5
}
