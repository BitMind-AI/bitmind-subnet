{
 "cells": [
  {
   "cell_type": "code",
   "execution_count": null,
   "id": "629535aa-f994-498d-830c-0c04b270df39",
   "metadata": {},
   "outputs": [],
   "source": [
    "from tensorboardX import SummaryWriter\n",
    "from validate import validate\n",
    "from networks.trainer import Trainer\n",
    "from torch.utils.data import DataLoader\n",
    "import numpy as np\n",
    "import os\n",
    "import time\n",
    "import random\n",
    "import torch\n",
    "\n",
    "#from base_miner.util import Logger\n",
    "from util.data import load_datasets, create_real_fake_datasets\n",
    "from bitmind.image_transforms import base_transforms, random_aug_transforms\n",
    "from options import TrainOptions"
   ]
  },
  {
   "cell_type": "code",
   "execution_count": null,
   "id": "7b73a712-8ab2-44d0-b1a5-acff8edf2613",
   "metadata": {},
   "outputs": [],
   "source": [
    "opt = TrainOptions().parse()\n",
    "\n",
    "model = Trainer(opt)\n",
    "weight_path = '../mining_models/base_aug.pth'\n",
    "model.model.load_state_dict(torch.load(weight_path, map_location='cpu'))\n",
    "model.model.eval();"
   ]
  },
  {
   "cell_type": "code",
   "execution_count": null,
   "id": "8eed7441-571d-4618-aa76-060f50cc5276",
   "metadata": {},
   "outputs": [],
   "source": [
    "from bitmind.constants import DATASET_META\n",
    "\n",
    "real_datasets, fake_datasets = load_datasets(DATASET_META)\n",
    "\n",
    "# set augment_test to True to apply random augmentations to test data. This is to allow evaluation that is more \n",
    "# representative of validator data, which includes augmentation. \n",
    "train_dataset, val_dataset, test_dataset = create_real_fake_datasets(\n",
    "    real_datasets, \n",
    "    fake_datasets, \n",
    "    train_transforms=random_aug_transforms,\n",
    "    val_transforms=base_transforms,\n",
    "    test_transforms=random_aug_transforms)"
   ]
  },
  {
   "cell_type": "code",
   "execution_count": null,
   "id": "1efaabda-c40b-4050-983f-189ccda16d77",
   "metadata": {},
   "outputs": [],
   "source": [
    "train_loader = DataLoader(\n",
    "    train_dataset, batch_size=32, shuffle=True, num_workers=0, collate_fn=lambda d: tuple(d))\n",
    "val_loader = DataLoader(\n",
    "    val_dataset, batch_size=32, shuffle=False, num_workers=0, collate_fn=lambda d: tuple(d))\n",
    "test_loader = DataLoader(\n",
    "    test_dataset, batch_size=32, shuffle=False, num_workers=0, collate_fn=lambda d: tuple(d))\n",
    "\n"
   ]
  },
  {
   "cell_type": "code",
   "execution_count": null,
   "id": "db517a10-5a5c-4129-ad94-dfdc2560c89c",
   "metadata": {},
   "outputs": [],
   "source": [
    "model.eval()\n",
    "acc, ap, r_acc, f_acc, y_true, y_pred = validate(model.model, test_loader)\n",
    "print(\"(Test) acc: {}; ap: {}\".format(acc, ap))"
   ]
  },
  {
   "cell_type": "code",
   "execution_count": null,
   "id": "56a9bb7f-72d7-492f-b00c-bf63b1385184",
   "metadata": {},
   "outputs": [],
   "source": [
    "from sklearn.metrics import average_precision_score, precision_recall_curve, accuracy_score\n",
    "import matplotlib.pyplot as plt\n",
    "\n",
    "pred_idx = 0\n",
    "test_loader.dataset.reset()\n",
    "with torch.no_grad():\n",
    "    y_true, y_pred = [], []\n",
    "    for batch in test_loader:\n",
    "        keep_idx = [i for i, b in enumerate(batch) if b[0].shape[0] == batch[0][0].shape[0]]\n",
    "        # batch = np.array(batch)\n",
    "        inputs = torch.stack([b[0] for i, b in enumerate(batch) if i in keep_idx])\n",
    "        labels = torch.stack([torch.tensor(b[1]) for i, b in enumerate(batch) if i in keep_idx])\n",
    "        img, label = inputs.to('cuda').float(), labels.to('cuda').float()\n",
    "\n",
    "        out = model.model(img).sigmoid().flatten().tolist()\n",
    "        y_pred.extend(out)\n",
    "        y_true.extend(label.flatten().tolist())\n",
    "\n",
    "        for y, y_hat, img, idx in zip(label.flatten().tolist(), out, img, keep_idx):\n",
    "            if y != np.round(y_hat):\n",
    "                plt.imshow(img.cpu().permute(1,2,0).numpy())\n",
    "                plt.show()\n",
    "                img_id = test_loader.dataset._history['index'][pred_idx + idx]\n",
    "                img_source = test_loader.dataset._history['source'][pred_idx + idx]\n",
    "                print(f\"source: {img_source}; id: {img_id}; Label: {y}; Prediction: {y_hat}\")\n",
    "        pred_idx += len(keep_idx)\n",
    "\n",
    "y_true, y_pred = np.array(y_true), np.array(y_pred)\n",
    "r_acc = accuracy_score(y_true[y_true==0], y_pred[y_true==0] > 0.5)\n",
    "f_acc = accuracy_score(y_true[y_true==1], y_pred[y_true==1] > 0.5)\n",
    "acc = accuracy_score(y_true, y_pred > 0.5)\n",
    "ap = average_precision_score(y_true, y_pred)\n"
   ]
  },
  {
   "cell_type": "code",
   "execution_count": null,
   "id": "ff2afd82-1634-4bcd-a8f6-dddc1a2fd8a8",
   "metadata": {},
   "outputs": [],
   "source": [
    "def compute_metrics(TP, FP, TN, FN):\n",
    "    precision = TP / (TP + FP) if (TP + FP) != 0 else 0\n",
    "    recall = TP / (TP + FN) if (TP + FN) != 0 else 0\n",
    "    if (precision + recall) == 0:\n",
    "        f1_score = 0\n",
    "    else:\n",
    "        f1_score = 2 * (precision * recall) / (precision + recall)\n",
    "    \n",
    "    return precision, recall, f1_score"
   ]
  },
  {
   "cell_type": "code",
   "execution_count": null,
   "id": "e9d5ff1d-9154-4956-be09-70e288183e99",
   "metadata": {},
   "outputs": [],
   "source": [
    "tp = sum(y_pred[y_true==1] > 0.5)\n",
    "fp = sum(y_pred[y_true==0] > 0.5)\n",
    "tn = sum(y_pred[y_true==0] <= 0.5)\n",
    "fn = sum(y_pred[y_true==1] <= 0.5)\n",
    "tp, fp, tn, fn"
   ]
  },
  {
   "cell_type": "code",
   "execution_count": null,
   "id": "6cde9da5-fca2-4668-b7d8-1c6a4e1204b7",
   "metadata": {},
   "outputs": [],
   "source": [
    "compute_metrics(tp, fp, tn, fn)"
   ]
  },
  {
   "cell_type": "code",
   "execution_count": null,
   "id": "390e1540-57ba-4858-88a8-f68f832ee1df",
   "metadata": {},
   "outputs": [],
   "source": [
    "len(test_loader), len(test_dataset)"
   ]
  },
  {
   "cell_type": "code",
   "execution_count": null,
   "id": "a255e4f0-7d3a-4e45-97d9-996dc3effb56",
   "metadata": {},
   "outputs": [],
   "source": []
  }
 ],
 "metadata": {
  "kernelspec": {
   "display_name": "Python 3 (ipykernel)",
   "language": "python",
   "name": "python3"
  },
  "language_info": {
   "codemirror_mode": {
    "name": "ipython",
    "version": 3
   },
   "file_extension": ".py",
   "mimetype": "text/x-python",
   "name": "python",
   "nbconvert_exporter": "python",
   "pygments_lexer": "ipython3",
   "version": "3.10.14"
  }
 },
 "nbformat": 4,
 "nbformat_minor": 5
}
